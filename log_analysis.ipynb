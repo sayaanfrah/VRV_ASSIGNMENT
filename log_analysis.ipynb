{
 "cells": [
  {
   "cell_type": "markdown",
   "id": "62d8b43d-3938-4321-aa4a-ff5fa2ce7818",
   "metadata": {},
   "source": [
    "## Assignment: Log Analysis Script\n",
    "\n",
    "### **Objective**\n",
    "\n",
    "## The goal of this assignment is to assess your ability to write a Python script that processes log files to extract and analyze key information. This assignment evaluates your proficiency in **file handling**, **string manipulation**, and **data analysis**, which are essential skills for cybersecurity-related programming tasks."
   ]
  },
  {
   "cell_type": "markdown",
   "id": "1bc58832-7bc9-4fe7-857d-eea68918675a",
   "metadata": {},
   "source": [
    "# Step 1: Import Required Libraries"
   ]
  },
  {
   "cell_type": "code",
   "execution_count": 3,
   "id": "70648b2d-db47-4dab-b466-442487dd7fb0",
   "metadata": {},
   "outputs": [],
   "source": [
    "import re\n",
    "import csv\n",
    "from collections import defaultdict"
   ]
  },
  {
   "cell_type": "markdown",
   "id": "257d1fbf-83ff-48e9-b806-e53296d52e7d",
   "metadata": {},
   "source": [
    "# Step 2: Define Functions\n",
    " # 1. Read Log File\n",
    " # This function reads the log file and returns its content line by line."
   ]
  },
  {
   "cell_type": "code",
   "execution_count": 6,
   "id": "89059513-4b3e-44f7-a342-260162bb1d33",
   "metadata": {},
   "outputs": [],
   "source": [
    "def read_log_file(file_path):\n",
    "    with open(file_path, 'r') as file:\n",
    "        return file.readlines()\n"
   ]
  },
  {
   "cell_type": "raw",
   "id": "730b3a9a-6571-415b-a6c5-9143e8e85c1f",
   "metadata": {},
   "source": [
    " 2. Count Requests per IP\n",
    "This function calculates the number of requests made by each IP address."
   ]
  },
  {
   "cell_type": "code",
   "execution_count": 8,
   "id": "687d8ab9-6668-4283-bef7-d916688f7c9f",
   "metadata": {},
   "outputs": [],
   "source": [
    "def count_requests_per_ip(log_lines):\n",
    "    ip_counts = defaultdict(int)\n",
    "    ip_pattern = r'^(\\d+\\.\\d+\\.\\d+\\.\\d+)'\n",
    "    for line in log_lines:\n",
    "        match = re.match(ip_pattern, line)\n",
    "        if match:\n",
    "            ip_counts[match.group(1)] += 1\n",
    "    return sorted(ip_counts.items(), key=lambda x: x[1], reverse=True)\n"
   ]
  },
  {
   "cell_type": "raw",
   "id": "eb6cb4c4-0f66-4c51-84c0-523f90666a54",
   "metadata": {},
   "source": [
    "3. Identify Most Accessed Endpoint\n",
    "This function finds the most frequently accessed endpoint."
   ]
  },
  {
   "cell_type": "code",
   "execution_count": 10,
   "id": "4d6d2ba0-b441-4d78-8f10-52d87cd43f92",
   "metadata": {},
   "outputs": [],
   "source": [
    "def most_accessed_endpoint(log_lines):\n",
    "    endpoint_counts = defaultdict(int)\n",
    "    endpoint_pattern = r'\"[A-Z]+\\s(\\/\\S+)\\sHTTP'\n",
    "    for line in log_lines:\n",
    "        match = re.search(endpoint_pattern, line)\n",
    "        if match:\n",
    "            endpoint_counts[match.group(1)] += 1\n",
    "    return max(endpoint_counts.items(), key=lambda x: x[1])\n"
   ]
  },
  {
   "cell_type": "raw",
   "id": "00d59ab2-c265-4ef4-82c4-0008a3a8114a",
   "metadata": {},
   "source": [
    "4. Detect Suspicious Activity\n",
    "This function flags IP addresses exceeding the failed login threshold.\n"
   ]
  },
  {
   "cell_type": "code",
   "execution_count": 25,
   "id": "3f07c2c3-2523-487a-bbe9-599989deb756",
   "metadata": {},
   "outputs": [],
   "source": [
    "def detect_suspicious_activity(log_lines, threshold=10):\n",
    "    \"\"\"\n",
    "    Identifies IP addresses with failed login attempts exceeding a given threshold.\n",
    "    \"\"\"\n",
    "    failed_attempts = defaultdict(int)\n",
    "    # Updated regex to ensure it captures the failure cases properly\n",
    "    failed_login_pattern = r'^(\\d+\\.\\d+\\.\\d+\\.\\d+).*\"POST\\s+/login.*\"\\s401'\n",
    "\n",
    "    for line in log_lines:\n",
    "        match = re.match(failed_login_pattern, line)\n",
    "        if match:\n",
    "            failed_attempts[match.group(1)] += 1\n",
    "\n",
    "    # Filter IPs exceeding the threshold\n",
    "    return {ip: count for ip, count in failed_attempts.items() if count >= threshold}\n",
    "\n"
   ]
  },
  {
   "cell_type": "raw",
   "id": "a93b976d-5e9d-48c9-a961-8516dc3dc2bc",
   "metadata": {},
   "source": [
    "5. Save Results to CSV\n",
    "This function saves the analysis results to a CSV file."
   ]
  },
  {
   "cell_type": "code",
   "execution_count": 27,
   "id": "242429e1-53cf-4e31-bc0d-49c5f8c52c1c",
   "metadata": {},
   "outputs": [],
   "source": [
    "def save_results_to_csv(ip_requests, endpoint, suspicious_ips, output_file='log_analysis_results.csv'):\n",
    "    with open(output_file, 'w', newline='') as csvfile:\n",
    "        writer = csv.writer(csvfile)\n",
    "        \n",
    "        # Write Requests per IP\n",
    "        writer.writerow(['Requests per IP'])\n",
    "        writer.writerow(['IP Address', 'Request Count'])\n",
    "        for ip, count in ip_requests:\n",
    "            writer.writerow([ip, count])\n",
    "        \n",
    "        # Write Most Accessed Endpoint\n",
    "        writer.writerow([])\n",
    "        writer.writerow(['Most Accessed Endpoint'])\n",
    "        writer.writerow(['Endpoint', 'Access Count'])\n",
    "        writer.writerow([endpoint[0], endpoint[1]])\n",
    "        \n",
    "        # Write Suspicious Activity\n",
    "        writer.writerow([])\n",
    "        writer.writerow(['Suspicious Activity Detected'])\n",
    "        writer.writerow(['IP Address', 'Failed Login Attempts'])\n",
    "        for ip, count in suspicious_ips.items():\n",
    "            writer.writerow([ip, count])\n"
   ]
  },
  {
   "cell_type": "markdown",
   "id": "b8f31ca0-3740-4f86-93e2-abcbcb131fc8",
   "metadata": {},
   "source": [
    "# Step 3: Main Script\n",
    " # The main script ties everything together."
   ]
  },
  {
   "cell_type": "code",
   "execution_count": 30,
   "id": "a4802f4e-320c-4e0e-bead-59158bd7f9fb",
   "metadata": {},
   "outputs": [
    {
     "name": "stdout",
     "output_type": "stream",
     "text": [
      "Requests per IP:\n",
      "203.0.113.5         8\n",
      "198.51.100.23       8\n",
      "192.168.1.1         7\n",
      "10.0.0.2            6\n",
      "192.168.1.100       5\n",
      "\n",
      "Most Frequently Accessed Endpoint:\n",
      "/login (Accessed 13 times)\n",
      "\n",
      "Suspicious Activity Detected:\n",
      "203.0.113.5         8\n",
      "192.168.1.100       5\n",
      "\n",
      "Results saved to 'log_analysis_results.csv'.\n"
     ]
    }
   ],
   "source": [
    "def main():\n",
    "    log_file_path = 'sample.log'\n",
    "    \n",
    "    # Read log file\n",
    "    log_lines = read_log_file(log_file_path)\n",
    "    \n",
    "    # Perform analysis\n",
    "    ip_requests = count_requests_per_ip(log_lines)\n",
    "    endpoint = most_accessed_endpoint(log_lines)\n",
    "    suspicious_ips = detect_suspicious_activity(log_lines, threshold=5)  # Set threshold to 5 for testing\n",
    "    \n",
    "    # Display results\n",
    "    print(\"Requests per IP:\")\n",
    "    for ip, count in ip_requests:\n",
    "        print(f\"{ip:<20}{count}\")\n",
    "    \n",
    "    print(\"\\nMost Frequently Accessed Endpoint:\")\n",
    "    print(f\"{endpoint[0]} (Accessed {endpoint[1]} times)\")\n",
    "    \n",
    "    print(\"\\nSuspicious Activity Detected:\")\n",
    "    if suspicious_ips:\n",
    "        for ip, count in suspicious_ips.items():\n",
    "            print(f\"{ip:<20}{count}\")\n",
    "    else:\n",
    "        print(\"No suspicious activity detected.\")\n",
    "    \n",
    "    # Save to CSV\n",
    "    save_results_to_csv(ip_requests, endpoint, suspicious_ips)\n",
    "    print(\"\\nResults saved to 'log_analysis_results.csv'.\")\n",
    "\n",
    "if __name__==\"__main__\":\n",
    "    main()"
   ]
  },
  {
   "cell_type": "code",
   "execution_count": null,
   "id": "d466a760-d8bf-43d4-9fd5-32229e624a32",
   "metadata": {},
   "outputs": [],
   "source": []
  }
 ],
 "metadata": {
  "kernelspec": {
   "display_name": "Python 3 (ipykernel)",
   "language": "python",
   "name": "python3"
  },
  "language_info": {
   "codemirror_mode": {
    "name": "ipython",
    "version": 3
   },
   "file_extension": ".py",
   "mimetype": "text/x-python",
   "name": "python",
   "nbconvert_exporter": "python",
   "pygments_lexer": "ipython3",
   "version": "3.12.4"
  }
 },
 "nbformat": 4,
 "nbformat_minor": 5
}
